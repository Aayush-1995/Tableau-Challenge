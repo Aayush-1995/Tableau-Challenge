{
 "cells": [
  {
   "cell_type": "code",
   "execution_count": 1,
   "metadata": {
    "ExecuteTime": {
     "end_time": "2024-03-17T20:14:13.607255Z",
     "start_time": "2024-03-17T20:14:11.695670Z"
    }
   },
   "outputs": [],
   "source": [
    "import pandas as pd"
   ]
  },
  {
   "cell_type": "code",
   "execution_count": 4,
   "metadata": {
    "ExecuteTime": {
     "end_time": "2024-03-17T20:21:03.698536Z",
     "start_time": "2024-03-17T20:20:59.229702Z"
    }
   },
   "outputs": [
    {
     "name": "stdout",
     "output_type": "stream",
     "text": [
      "(58680, 13)\n",
      "(50661, 13)\n",
      "(231338, 13)\n"
     ]
    }
   ],
   "source": [
    "dtypes = {\"ride_id\": str,\n",
    "          \"rideable_type\": str,\n",
    "          \"started_at\": pd.Timestamp,\n",
    "          \"ended_at\": pd.Timestamp,\n",
    "          \"start_station_name\": \"str\",\n",
    "          \"start_station_id\": \"str\",\n",
    "          \"end_station_name\": \"str\",\n",
    "          \"end_station_id\": \"str\",\n",
    "          \"start_lat\": float,\n",
    "          \"start_lng\": float,\n",
    "          \"end_lat\": float,\n",
    "          \"end_lng\": float,\n",
    "          \"member_casual\": \"str\"}\n",
    "data_dec_23 = pd.read_csv(\"JC-202312-citibike-tripdata.csv/JC-202312-citibike-tripdata.csv\", header=0, parse_dates=[2, 3])\n",
    "data_jan_24 = pd.read_csv(\"JC-202401-citibike-tripdata.csv/JC-202401-citibike-tripdata.csv\", header=0, parse_dates=[2, 3])\n",
    "data_feb_24 = pd.read_csv(\"202402-citibike-tripdata.csv/202402-citibike-tripdata_1.csv\", header=0, parse_dates=[2, 3])\n",
    "print(data_dec_23.shape)\n",
    "print(data_jan_24.shape)\n",
    "print(data_feb_24.shape)"
   ]
  },
  {
   "cell_type": "code",
   "execution_count": 5,
   "metadata": {
    "ExecuteTime": {
     "end_time": "2024-03-17T20:22:12.226819Z",
     "start_time": "2024-03-17T20:22:11.535615Z"
    }
   },
   "outputs": [
    {
     "name": "stdout",
     "output_type": "stream",
     "text": [
      "<class 'pandas.core.frame.DataFrame'>\n",
      "RangeIndex: 58680 entries, 0 to 58679\n",
      "Data columns (total 13 columns):\n",
      " #   Column              Non-Null Count  Dtype         \n",
      "---  ------              --------------  -----         \n",
      " 0   ride_id             58680 non-null  object        \n",
      " 1   rideable_type       58680 non-null  object        \n",
      " 2   started_at          58680 non-null  datetime64[ns]\n",
      " 3   ended_at            58680 non-null  datetime64[ns]\n",
      " 4   start_station_name  58676 non-null  object        \n",
      " 5   start_station_id    58676 non-null  object        \n",
      " 6   end_station_name    58441 non-null  object        \n",
      " 7   end_station_id      58441 non-null  object        \n",
      " 8   start_lat           58680 non-null  float64       \n",
      " 9   start_lng           58680 non-null  float64       \n",
      " 10  end_lat             58638 non-null  float64       \n",
      " 11  end_lng             58638 non-null  float64       \n",
      " 12  member_casual       58680 non-null  object        \n",
      "dtypes: datetime64[ns](2), float64(4), object(7)\n",
      "memory usage: 5.8+ MB\n"
     ]
    }
   ],
   "source": [
    "data_dec_23.info()"
   ]
  },
  {
   "cell_type": "code",
   "execution_count": 6,
   "metadata": {
    "ExecuteTime": {
     "end_time": "2024-03-17T20:22:31.559884Z",
     "start_time": "2024-03-17T20:22:31.536104Z"
    }
   },
   "outputs": [
    {
     "name": "stdout",
     "output_type": "stream",
     "text": [
      "rideable_type\n",
      "classic_bike     55803\n",
      "electric_bike     2877\n",
      "Name: count, dtype: int64\n",
      "member_casual\n",
      "member    46016\n",
      "casual    12664\n",
      "Name: count, dtype: int64\n"
     ]
    }
   ],
   "source": [
    "print(data_dec_23[\"rideable_type\"].value_counts())\n",
    "print(data_dec_23[\"member_casual\"].value_counts())"
   ]
  },
  {
   "cell_type": "code",
   "execution_count": 8,
   "metadata": {
    "ExecuteTime": {
     "end_time": "2024-03-17T20:24:41.685852Z",
     "start_time": "2024-03-17T20:24:41.122595Z"
    }
   },
   "outputs": [
    {
     "name": "stdout",
     "output_type": "stream",
     "text": [
      "(339348, 12)\n",
      "<class 'pandas.core.frame.DataFrame'>\n",
      "Index: 339348 entries, 0 to 231336\n",
      "Data columns (total 12 columns):\n",
      " #   Column              Non-Null Count   Dtype         \n",
      "---  ------              --------------   -----         \n",
      " 0   rideable_type       339348 non-null  object        \n",
      " 1   started_at          339348 non-null  datetime64[ns]\n",
      " 2   ended_at            339348 non-null  datetime64[ns]\n",
      " 3   start_station_name  339348 non-null  object        \n",
      " 4   start_station_id    339348 non-null  object        \n",
      " 5   end_station_name    339348 non-null  object        \n",
      " 6   end_station_id      339348 non-null  object        \n",
      " 7   start_lat           339348 non-null  float64       \n",
      " 8   start_lng           339348 non-null  float64       \n",
      " 9   end_lat             339348 non-null  float64       \n",
      " 10  end_lng             339348 non-null  float64       \n",
      " 11  member_casual       339348 non-null  bool          \n",
      "dtypes: bool(1), datetime64[ns](2), float64(4), object(5)\n",
      "memory usage: 31.4+ MB\n"
     ]
    }
   ],
   "source": [
    "map_rideable_type = {\"classic_bike\": \"C\",\n",
    "                     \"electric_bike\": \"E\",\n",
    "                     \"docked_bike\": \"D\"}\n",
    "map_member_casual = {\"member\": True,\n",
    "                     \"casual\": False}\n",
    "\n",
    "visualization_df = pd.concat([data_dec_23, data_jan_24, data_feb_24])\n",
    "visualization_df.drop(\"ride_id\", axis=1, inplace=True)  # don't need id column\n",
    "visualization_df.dropna(axis=0, inplace=True)  # drop any row with missing data\n",
    "# map strings to shorter values\n",
    "visualization_df[\"rideable_type\"] = visualization_df[\"rideable_type\"].map(map_rideable_type)\n",
    "visualization_df[\"member_casual\"] = visualization_df[\"member_casual\"].map(map_member_casual)\n",
    "print(visualization_df.shape)\n",
    "visualization_df.info()"
   ]
  },
  {
   "cell_type": "code",
   "execution_count": 11,
   "metadata": {
    "ExecuteTime": {
     "end_time": "2024-03-17T20:27:37.685972Z",
     "start_time": "2024-03-17T20:27:30.437712Z"
    }
   },
   "outputs": [],
   "source": [
    "visualization_df.to_csv(\"citibike_winter_23_24.csv\", index=False, header=True)"
   ]
  },
  {
   "cell_type": "code",
   "execution_count": null,
   "metadata": {},
   "outputs": [],
   "source": []
  }
 ],
 "metadata": {
  "kernelspec": {
   "display_name": "Python 3 (ipykernel)",
   "language": "python",
   "name": "python3"
  },
  "language_info": {
   "codemirror_mode": {
    "name": "ipython",
    "version": 3
   },
   "file_extension": ".py",
   "mimetype": "text/x-python",
   "name": "python",
   "nbconvert_exporter": "python",
   "pygments_lexer": "ipython3",
   "version": "3.11.5"
  }
 },
 "nbformat": 4,
 "nbformat_minor": 2
}
